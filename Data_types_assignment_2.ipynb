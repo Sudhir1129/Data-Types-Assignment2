{
  "nbformat": 4,
  "nbformat_minor": 0,
  "metadata": {
    "colab": {
      "provenance": []
    },
    "kernelspec": {
      "name": "python3",
      "display_name": "Python 3"
    },
    "language_info": {
      "name": "python"
    }
  },
  "cells": [
    {
      "cell_type": "markdown",
      "source": [
        "#**Data Types And Structures**\n"
      ],
      "metadata": {
        "id": "dbbZsYXt1EoW"
      }
    },
    {
      "cell_type": "markdown",
      "source": [
        "1. What are data structures, and why are they important?"
      ],
      "metadata": {
        "id": "miTsPf3v1u2Z"
      }
    },
    {
      "cell_type": "markdown",
      "source": [
        "- Data structures are ways to organize, store, and manage data efficiently for various operations like accessing, modifying, and processing.\n",
        "- they are important as:\n",
        "Efficiency: Enable faster data access and operations.\n",
        "Optimization: Reduce time and space complexity.\n",
        "Scalability: Handle large datasets effectively.\n",
        "Problem Solving: Tailored solutions for specific problems (e.g., graphs for networks, trees for hierarchies).\n",
        "Foundational: Essential for algorithms and real-world applications like databases and operating systems."
      ],
      "metadata": {
        "id": "tPXFo-io2io8"
      }
    },
    {
      "cell_type": "markdown",
      "source": [
        "2. Explain the difference between mutable and immutable data types with examples"
      ],
      "metadata": {
        "id": "BMD2mYGs45hY"
      }
    },
    {
      "cell_type": "markdown",
      "source": [
        "- Mutable data types can be changed after creation, meaning the same object is modified. Examples include lists, dictionaries, and sets. For instance:\n",
        "\n",
        "- Immutable data types cannot be changed after creation. Any modification creates a new object. Examples include strings, tuples, and numbers."
      ],
      "metadata": {
        "id": "HgptLzhv5h95"
      }
    },
    {
      "cell_type": "markdown",
      "source": [
        "3. What are the main differences between lists and tuples in Python?\n",
        "- Main Differences Between Lists and Tuples in Python\n",
        "Mutability:\n",
        "\n",
        "**Lists** are mutable, meaning you can modify their elements (e.g., add, remove, or change values).\n",
        "\n",
        "**Tuples**  are immutable, so once created, their elements cannot be changed"
      ],
      "metadata": {
        "id": "sKgjtb5D6PE4"
      }
    },
    {
      "cell_type": "code",
      "source": [],
      "metadata": {
        "id": "dQ68y9qx6jkH"
      },
      "execution_count": null,
      "outputs": []
    },
    {
      "cell_type": "markdown",
      "source": [
        "4.Describe how dictionaries store data\n",
        "- Dictionaries store data as **key-value pairs** using a **hash table**. Keys are hashed to determine their storage location, allowing for fast lookups, insertions, and deletions (average **O(1)** complexity). Keys must be unique and hashable, while values can be any data type."
      ],
      "metadata": {
        "id": "jHF0CsNb63sE"
      }
    },
    {
      "cell_type": "markdown",
      "source": [
        "5. Why might you use a set instead of a list in Python\n",
        "- Use a set instead of a list when you need unique elements, fast membership testing , or efficient set operations (e.g., union, intersection). Sets are unordered and automatically remove duplicates."
      ],
      "metadata": {
        "id": "AwrpgzEJ7cv6"
      }
    },
    {
      "cell_type": "markdown",
      "source": [
        "6.What is a string in Python, and how is it different from a list?\n",
        "- A string is an immutable sequence of characters, while a list is a mutable collection of elements that can be of any type. Strings are for text, and lists are for storing multiple data items."
      ],
      "metadata": {
        "id": "cQNfRS_F8GXq"
      }
    },
    {
      "cell_type": "code",
      "source": [],
      "metadata": {
        "id": "pLU5slMo8eVX"
      },
      "execution_count": null,
      "outputs": []
    },
    {
      "cell_type": "markdown",
      "source": [
        "7. How do tuples ensure data integrity in Python?\n",
        "- Tuples ensure data integrity in Python by being **immutable**, meaning their elements cannot be changed, added, or removed after creation. This immutability prevents accidental modifications, making tuples ideal for storing constant or fixed data, ensuring consistency and reliability."
      ],
      "metadata": {
        "id": "kIRKWZAB8lhJ"
      }
    },
    {
      "cell_type": "code",
      "source": [],
      "metadata": {
        "id": "X2xNxoAT8wpT"
      },
      "execution_count": null,
      "outputs": []
    },
    {
      "cell_type": "markdown",
      "source": [
        "8. What is a hash table, and how does it relate to dictionaries in Python?\n",
        " -  A **hash table** is a data structure that stores key-value pairs and uses a **hash function** to compute an index (or hash) where the value is stored. This allows for efficient **O(1)** average-time complexity for lookups, insertions, and deletions.\n",
        "\n",
        "- In Python, **dictionaries** are implemented using hash tables. When you add a key-value pair to a dictionary, Python computes the hash of the key and stores the pair at the corresponding index. This makes dictionaries fast for searching and updating values based on their keys."
      ],
      "metadata": {
        "id": "ZGpcudgS8z7l"
      }
    },
    {
      "cell_type": "code",
      "source": [],
      "metadata": {
        "id": "GzPv8sVU9KGc"
      },
      "execution_count": null,
      "outputs": []
    },
    {
      "cell_type": "markdown",
      "source": [
        "9.Can lists contain different data types in Python?\n",
        "- Yes, lists in Python can contain elements of different data types. A single list can store integers, strings, floats, and even other lists or objects.\n"
      ],
      "metadata": {
        "id": "qDafJJ6t9PYg"
      }
    },
    {
      "cell_type": "code",
      "source": [],
      "metadata": {
        "id": "9XMnOvTa9bPw"
      },
      "execution_count": null,
      "outputs": []
    },
    {
      "cell_type": "markdown",
      "source": [
        "10. Explain why strings are immutable in Python?\n",
        "- Strings are immutable in Python to ensure **data integrity**, improve **performance**, and make them **hashable** for use as dictionary keys. Immutability also makes strings **thread-safe** and consistent throughout their lifetime."
      ],
      "metadata": {
        "id": "CouyVjGC9fH2"
      }
    },
    {
      "cell_type": "code",
      "source": [],
      "metadata": {
        "id": "PDI178Jq91AJ"
      },
      "execution_count": null,
      "outputs": []
    },
    {
      "cell_type": "markdown",
      "source": [
        "11.What advantages do dictionaries offer over lists for certain tasks?\n",
        "- Dictionaries offer **faster lookups** (O(1) time), store **key-value pairs**, ensure **unique keys**, and provide **efficient updates** compared to lists, making them ideal for fast data retrieval and mapping."
      ],
      "metadata": {
        "id": "7S85k2uh92pp"
      }
    },
    {
      "cell_type": "code",
      "source": [],
      "metadata": {
        "id": "F_5yo9Wj-F2V"
      },
      "execution_count": null,
      "outputs": []
    },
    {
      "cell_type": "markdown",
      "source": [
        "12.Describe a scenario where using a tuple would be preferable over a list\n",
        "- Using a **tuple** would be preferable over a **list** when you need to store **immutable** data that shouldn't be changed, such as coordinates or fixed configuration values. For example, storing GPS coordinates `(latitude, longitude)` in a tuple ensures the values cannot be accidentally modified, providing data integrity."
      ],
      "metadata": {
        "id": "ttkeAxKw-HhQ"
      }
    },
    {
      "cell_type": "code",
      "source": [],
      "metadata": {
        "id": "AT4aQPX4-Zgr"
      },
      "execution_count": null,
      "outputs": []
    },
    {
      "cell_type": "markdown",
      "source": [
        "13.How do sets handle duplicate values in Python?\n",
        "- Sets automatically **remove duplicate values** in Python. When you try to add a duplicate element to a set, it simply ignores it, ensuring that each element in a set is unique."
      ],
      "metadata": {
        "id": "FjYwzM7G-cOQ"
      }
    },
    {
      "cell_type": "code",
      "source": [],
      "metadata": {
        "id": "6lDx3Lc_-rW_"
      },
      "execution_count": null,
      "outputs": []
    },
    {
      "cell_type": "markdown",
      "source": [
        "14. How does the “in” keyword work differently for lists and dictionaries\n",
        "- In **lists**, `in` checks for **values**, while in **dictionaries**, `in` checks for **keys**."
      ],
      "metadata": {
        "id": "U5TjczNT-wOK"
      }
    },
    {
      "cell_type": "code",
      "source": [],
      "metadata": {
        "id": "JSE1JAL9_AIo"
      },
      "execution_count": null,
      "outputs": []
    },
    {
      "cell_type": "markdown",
      "source": [
        "15.Can you modify the elements of a tuple? Explain why or why not?\n",
        "- No, you cannot modify the elements of a **tuple** because tuples are **immutable** in Python. Once a tuple is created, its elements cannot be changed, added, or removed. This immutability ensures data integrity and allows tuples to be used as keys in dictionaries."
      ],
      "metadata": {
        "id": "-fmTkiqC_Bp2"
      }
    },
    {
      "cell_type": "code",
      "source": [],
      "metadata": {
        "id": "_ZkQ-e9S_ME3"
      },
      "execution_count": null,
      "outputs": []
    },
    {
      "cell_type": "markdown",
      "source": [
        "16. What is a nested dictionary, and give an example of its use case?\n",
        "- A nested dictionary is a dictionary where the value associated with a key is another dictionary. This allows for hierarchical or complex data structures.\n",
        "  - example\n",
        "  \n",
        "  employee =\n",
        "   {\n",
        "    \"John\": {\"age\": 30, \"position\": \"Manager\"},\n",
        "    \"Alice\": {\"age\": 25, \"position\": \"Developer\"}\n",
        "}"
      ],
      "metadata": {
        "id": "bpzA6XIt_RcM"
      }
    },
    {
      "cell_type": "code",
      "source": [],
      "metadata": {
        "id": "-lEmczKe_nJg"
      },
      "execution_count": null,
      "outputs": []
    },
    {
      "cell_type": "markdown",
      "source": [
        "17. Describe the time complexity of accessing elements in a dictionary\n",
        "- The time complexity of accessing elements in a **dictionary** is **O(1)** on average. This is because dictionaries use a **hash table** to store key-value pairs, allowing for direct access to values based on their keys. However, in rare cases (e.g., hash collisions), it may degrade to **O(n)**, but this is typically not common."
      ],
      "metadata": {
        "id": "OSTYm1ZV_xB1"
      }
    },
    {
      "cell_type": "code",
      "source": [],
      "metadata": {
        "id": "LcHwfNyPABSa"
      },
      "execution_count": null,
      "outputs": []
    },
    {
      "cell_type": "markdown",
      "source": [
        "18. In what situations are lists preferred over dictionaries?\n",
        "- Lists are preferred over dictionaries when the order matters, when accessing data by position, for homogeneous data, or when the data size is dynamic."
      ],
      "metadata": {
        "id": "05wa8AlaAClW"
      }
    },
    {
      "cell_type": "code",
      "source": [],
      "metadata": {
        "id": "6dxkg3A-Ak8F"
      },
      "execution_count": null,
      "outputs": []
    },
    {
      "cell_type": "markdown",
      "source": [
        "19.Why are dictionaries considered unordered, and how does that affect data retrieval?\n",
        "- Dictionaries are considered unordered because the order of key-value pairs is not guaranteed, as they are stored using a hash table. The internal structure focuses on fast access by key, not maintaining the order of insertion."
      ],
      "metadata": {
        "id": "aPE8yLLJAoYp"
      }
    },
    {
      "cell_type": "code",
      "source": [],
      "metadata": {
        "id": "E-g-wDCsAyj6"
      },
      "execution_count": null,
      "outputs": []
    },
    {
      "cell_type": "markdown",
      "source": [
        "20.Explain the difference between a list and a dictionary in terms of data retrieval.\n",
        "- The main difference between a list and a dictionary in terms of data retrieval is how they access data:\n",
        "\n",
        "List:\n",
        "Access data by index (position in the list).\n",
        "Retrieval time is O(1) if the index is known, but searching for an element requires O(n) time.\n",
        "\n",
        "\n",
        "Dictionary:\n",
        "Access data by key.\n",
        "Retrieval time is O(1) on average due to the hash table implementation, making it much faster for looking up values by key compared to lists.\n"
      ],
      "metadata": {
        "id": "Wve3rL6ZAzg5"
      }
    },
    {
      "cell_type": "code",
      "source": [],
      "metadata": {
        "id": "1_hXjiDWBOjm"
      },
      "execution_count": null,
      "outputs": []
    },
    {
      "cell_type": "markdown",
      "source": [
        "#**Practical Question **"
      ],
      "metadata": {
        "id": "5D_WgIDyBTYU"
      }
    },
    {
      "cell_type": "code",
      "source": [],
      "metadata": {
        "id": "Y02AArbUBjjQ"
      },
      "execution_count": null,
      "outputs": []
    },
    {
      "cell_type": "markdown",
      "source": [
        "1. Write a code to create a string with your name and print it\n"
      ],
      "metadata": {
        "id": "_PmK0K8KBri7"
      }
    },
    {
      "cell_type": "code",
      "source": [
        "name = \"Sudhir Singh\"\n",
        "print(name)"
      ],
      "metadata": {
        "id": "yOrnWqQ0Bzfn"
      },
      "execution_count": null,
      "outputs": []
    },
    {
      "cell_type": "code",
      "source": [],
      "metadata": {
        "id": "t38UM8pLB92v"
      },
      "execution_count": null,
      "outputs": []
    },
    {
      "cell_type": "markdown",
      "source": [
        "2. Write a code to find the length of the string \"Hello World\""
      ],
      "metadata": {
        "id": "pcNF7lEPB_tx"
      }
    },
    {
      "cell_type": "code",
      "source": [
        "\n",
        "string = \"Hello World\"\n",
        "length = len(string)\n",
        "print(length)"
      ],
      "metadata": {
        "colab": {
          "base_uri": "https://localhost:8080/"
        },
        "id": "VaUu1NB5CJN-",
        "outputId": "e0ce95b7-22da-40db-d64c-7050d999e490"
      },
      "execution_count": null,
      "outputs": [
        {
          "output_type": "stream",
          "name": "stdout",
          "text": [
            "11\n"
          ]
        }
      ]
    },
    {
      "cell_type": "code",
      "source": [],
      "metadata": {
        "id": "pO2zQi94CUge"
      },
      "execution_count": null,
      "outputs": []
    },
    {
      "cell_type": "markdown",
      "source": [
        "3.Write a code to slice the first 3 characters from the string \"Python Programming\""
      ],
      "metadata": {
        "id": "rTOv1me9CgQ1"
      }
    },
    {
      "cell_type": "code",
      "source": [
        "string = \"Python Programming\"\n",
        "sliced_string = string[:3]\n",
        "print(sliced_string)"
      ],
      "metadata": {
        "colab": {
          "base_uri": "https://localhost:8080/"
        },
        "id": "JMl3FceKCnfX",
        "outputId": "969ffc3f-b8c1-4338-dd26-ac21f9a88882"
      },
      "execution_count": null,
      "outputs": [
        {
          "output_type": "stream",
          "name": "stdout",
          "text": [
            "Pyt\n"
          ]
        }
      ]
    },
    {
      "cell_type": "code",
      "source": [],
      "metadata": {
        "id": "WSJT2PegDBj9"
      },
      "execution_count": null,
      "outputs": []
    },
    {
      "cell_type": "markdown",
      "source": [
        "4.Write a code to convert the string \"hello\" to uppercase"
      ],
      "metadata": {
        "id": "j36mLfl-DF_c"
      }
    },
    {
      "cell_type": "code",
      "source": [
        "string = \"hello\"\n",
        "uppercase_string = string.upper()\n",
        "print(uppercase_string)"
      ],
      "metadata": {
        "colab": {
          "base_uri": "https://localhost:8080/"
        },
        "id": "G7DfMtHqDL84",
        "outputId": "33264f80-58d7-4df5-e262-72e0962fe65a"
      },
      "execution_count": null,
      "outputs": [
        {
          "output_type": "stream",
          "name": "stdout",
          "text": [
            "HELLO\n"
          ]
        }
      ]
    },
    {
      "cell_type": "markdown",
      "source": [
        "5. Write a code to convert the string \"hello\" to uppercase\n"
      ],
      "metadata": {
        "id": "f5KdmlLsDS90"
      }
    },
    {
      "cell_type": "code",
      "source": [
        "tring = \"hello\"\n",
        "uppercase_string = string.upper()\n",
        "print(uppercase_string)"
      ],
      "metadata": {
        "colab": {
          "base_uri": "https://localhost:8080/"
        },
        "id": "gOlt9aeDDYSE",
        "outputId": "d7024dad-2d7d-48cb-acaa-f6c21329224e"
      },
      "execution_count": null,
      "outputs": [
        {
          "output_type": "stream",
          "name": "stdout",
          "text": [
            "HELLO\n"
          ]
        }
      ]
    },
    {
      "cell_type": "markdown",
      "source": [
        "6.. Write a code to create a list with numbers 1 to 5 and print it\n"
      ],
      "metadata": {
        "id": "Pyx9onICDlU3"
      }
    },
    {
      "cell_type": "code",
      "source": [
        "\n",
        "my_list = [1, 2, 3, 4, 5]\n",
        "print(my_list)\n"
      ],
      "metadata": {
        "colab": {
          "base_uri": "https://localhost:8080/"
        },
        "id": "LPfR2t7WDqBd",
        "outputId": "059301cf-0a63-43f4-ecdf-4b8730e2aab3"
      },
      "execution_count": null,
      "outputs": [
        {
          "output_type": "stream",
          "name": "stdout",
          "text": [
            "[1, 2, 3, 4, 5]\n"
          ]
        }
      ]
    },
    {
      "cell_type": "code",
      "source": [],
      "metadata": {
        "id": "1tn6XZAcD_xT"
      },
      "execution_count": null,
      "outputs": []
    },
    {
      "cell_type": "markdown",
      "source": [
        "7. Write a code to append the number 10 to the list [1, 2, 3, 4]"
      ],
      "metadata": {
        "id": "2n-NkGuyEEYX"
      }
    },
    {
      "cell_type": "code",
      "source": [
        "my_list = [1, 2, 3, 4]\n",
        "my_list.append(10)\n",
        "print(my_list)"
      ],
      "metadata": {
        "colab": {
          "base_uri": "https://localhost:8080/"
        },
        "id": "x2jiMY_5EHKH",
        "outputId": "7eaa4523-74ed-4b71-df05-0e74cd8d82b3"
      },
      "execution_count": null,
      "outputs": [
        {
          "output_type": "stream",
          "name": "stdout",
          "text": [
            "[1, 2, 3, 4, 10]\n"
          ]
        }
      ]
    },
    {
      "cell_type": "markdown",
      "source": [
        "8. Write a code to remove the number 3 from the list [1, 2, 3, 4, 5]"
      ],
      "metadata": {
        "id": "dXu7FMHvEN6O"
      }
    },
    {
      "cell_type": "code",
      "source": [
        "my_list = [1, 2, 3, 4, 5]\n",
        "my_list.remove(3)\n",
        "print(my_list)"
      ],
      "metadata": {
        "colab": {
          "base_uri": "https://localhost:8080/"
        },
        "id": "RsDlHIfxERge",
        "outputId": "b30cba31-a011-4cd1-d56d-d2daed6f419c"
      },
      "execution_count": null,
      "outputs": [
        {
          "output_type": "stream",
          "name": "stdout",
          "text": [
            "[1, 2, 4, 5]\n"
          ]
        }
      ]
    },
    {
      "cell_type": "code",
      "source": [],
      "metadata": {
        "id": "95U9kY1wEiJn"
      },
      "execution_count": null,
      "outputs": []
    },
    {
      "cell_type": "markdown",
      "source": [
        "9.Write a code to access the second element in the list ['a', 'b', 'c', 'd']"
      ],
      "metadata": {
        "id": "Y8_LzUeNEjt0"
      }
    },
    {
      "cell_type": "code",
      "source": [
        "my_list = ['a', 'b', 'c', 'd']\n",
        "second_element = my_list[1]\n",
        "print(second_element)"
      ],
      "metadata": {
        "colab": {
          "base_uri": "https://localhost:8080/"
        },
        "id": "sGsyGn29EoaT",
        "outputId": "4d1efa2d-a1cb-4919-dba2-c9e8986e4740"
      },
      "execution_count": null,
      "outputs": [
        {
          "output_type": "stream",
          "name": "stdout",
          "text": [
            "b\n"
          ]
        }
      ]
    },
    {
      "cell_type": "markdown",
      "source": [
        "10. Write a code to reverse the list [10, 20, 30, 40, 50]"
      ],
      "metadata": {
        "id": "haWyx5bwEsOr"
      }
    },
    {
      "cell_type": "code",
      "source": [
        "my_list = [10, 20, 30, 40, 50]\n",
        "my_list.reverse()\n",
        "print(my_list)"
      ],
      "metadata": {
        "colab": {
          "base_uri": "https://localhost:8080/"
        },
        "id": "Ofq9XBesEvPC",
        "outputId": "9de50663-e24d-4e47-995e-2d50ffb6a2a9"
      },
      "execution_count": null,
      "outputs": [
        {
          "output_type": "stream",
          "name": "stdout",
          "text": [
            "[50, 40, 30, 20, 10]\n"
          ]
        }
      ]
    },
    {
      "cell_type": "code",
      "source": [],
      "metadata": {
        "id": "z8MaX6rCFBIR"
      },
      "execution_count": null,
      "outputs": []
    },
    {
      "cell_type": "markdown",
      "source": [
        "11.Write a code to create a tuple with the elements 10, 20, 30 and print it"
      ],
      "metadata": {
        "id": "1xCZVIeaFGZv"
      }
    },
    {
      "cell_type": "code",
      "source": [
        "\n",
        "\n",
        "my_tuple = (10, 20, 30)\n",
        "my_tuple\n"
      ],
      "metadata": {
        "colab": {
          "base_uri": "https://localhost:8080/"
        },
        "id": "Rhdd0UIGFII4",
        "outputId": "8b4db368-bbe2-455c-e008-ad5a448289d4"
      },
      "execution_count": null,
      "outputs": [
        {
          "output_type": "execute_result",
          "data": {
            "text/plain": [
              "(10, 20, 30)"
            ]
          },
          "metadata": {},
          "execution_count": 12
        }
      ]
    },
    {
      "cell_type": "code",
      "source": [],
      "metadata": {
        "id": "i_n3ZVSUFU0m"
      },
      "execution_count": null,
      "outputs": []
    },
    {
      "cell_type": "markdown",
      "source": [
        "12. Write a code to access the first element of the tuple ('apple', 'banana', 'cherry')"
      ],
      "metadata": {
        "id": "mT6Mu6h2FYJY"
      }
    },
    {
      "cell_type": "code",
      "source": [
        "\n",
        "\n",
        "my_tuple = ('apple', 'banana', 'cherry')\n",
        "first_element = my_tuple[0]\n",
        "first_element"
      ],
      "metadata": {
        "colab": {
          "base_uri": "https://localhost:8080/",
          "height": 35
        },
        "id": "wQKwSmmEFbg8",
        "outputId": "b7f8477e-7a42-451d-ad38-eba648750d73"
      },
      "execution_count": null,
      "outputs": [
        {
          "output_type": "execute_result",
          "data": {
            "text/plain": [
              "'apple'"
            ],
            "application/vnd.google.colaboratory.intrinsic+json": {
              "type": "string"
            }
          },
          "metadata": {},
          "execution_count": 13
        }
      ]
    },
    {
      "cell_type": "markdown",
      "source": [
        "13.Write a code to count how many times the number 2 appears in the tuple (1, 2, 3, 2, 4, 2)"
      ],
      "metadata": {
        "id": "9DZzrYT0ForI"
      }
    },
    {
      "cell_type": "code",
      "source": [
        "\n",
        "\n",
        "my_tuple = (1, 2, 3, 2, 4, 2)\n",
        "count = my_tuple.count(2)\n",
        "count"
      ],
      "metadata": {
        "colab": {
          "base_uri": "https://localhost:8080/"
        },
        "id": "hEwIP5AjFlno",
        "outputId": "db174636-f901-4963-948d-f99d0f55fb3b"
      },
      "execution_count": null,
      "outputs": [
        {
          "output_type": "execute_result",
          "data": {
            "text/plain": [
              "3"
            ]
          },
          "metadata": {},
          "execution_count": 14
        }
      ]
    },
    {
      "cell_type": "code",
      "source": [],
      "metadata": {
        "id": "UynxcTV_Fy4d"
      },
      "execution_count": null,
      "outputs": []
    },
    {
      "cell_type": "markdown",
      "source": [
        "14. Write a code to find the index of the element \"cat\" in the tuple ('dog', 'cat', 'rabbit')."
      ],
      "metadata": {
        "id": "vhBpezesF5AH"
      }
    },
    {
      "cell_type": "code",
      "source": [
        "\n",
        "\n",
        "my_tuple = ('dog', 'cat', 'rabbit')\n",
        "index = my_tuple.index('cat')\n",
        "index"
      ],
      "metadata": {
        "colab": {
          "base_uri": "https://localhost:8080/"
        },
        "id": "0PYuCHtYF8mw",
        "outputId": "bfeafeeb-eeee-4ae6-c84d-7f48e66dfb8d"
      },
      "execution_count": null,
      "outputs": [
        {
          "output_type": "execute_result",
          "data": {
            "text/plain": [
              "1"
            ]
          },
          "metadata": {},
          "execution_count": 15
        }
      ]
    },
    {
      "cell_type": "code",
      "source": [],
      "metadata": {
        "id": "kBgkW9gqGEvN"
      },
      "execution_count": null,
      "outputs": []
    },
    {
      "cell_type": "markdown",
      "source": [
        "15.Write a code to check if the element \"banana\" is in the tuple ('apple', 'orange', 'banana')."
      ],
      "metadata": {
        "id": "SXvY1jDIGIuX"
      }
    },
    {
      "cell_type": "code",
      "source": [
        "my_tuple = ('apple', 'orange', 'banana')\n",
        "\n",
        "if 'banana' in my_tuple:\n",
        "    print(\"Banana is in the tuple\")\n",
        "else:\n",
        "    print(\"Banana is not in the tuple\")"
      ],
      "metadata": {
        "colab": {
          "base_uri": "https://localhost:8080/"
        },
        "id": "-4gNdLXNGbZM",
        "outputId": "ddcdf7fb-8fee-48c5-a999-2824da7b228c"
      },
      "execution_count": null,
      "outputs": [
        {
          "output_type": "stream",
          "name": "stdout",
          "text": [
            "Banana is in the tuple\n"
          ]
        }
      ]
    },
    {
      "cell_type": "code",
      "source": [],
      "metadata": {
        "id": "dBuQdKD2Gcfe"
      },
      "execution_count": null,
      "outputs": []
    },
    {
      "cell_type": "markdown",
      "source": [
        "16. Write a code to create a set with the elements 1, 2, 3, 4, 5 and print it."
      ],
      "metadata": {
        "id": "OFTr88ndGh45"
      }
    },
    {
      "cell_type": "code",
      "source": [
        "\n",
        "\n",
        "my_set = {1, 2, 3, 4, 5}\n",
        "my_set\n"
      ],
      "metadata": {
        "colab": {
          "base_uri": "https://localhost:8080/"
        },
        "id": "rp0l7KWvGjcU",
        "outputId": "90c0660f-b0c0-44b7-fb5f-9f4ccd25e2aa"
      },
      "execution_count": null,
      "outputs": [
        {
          "output_type": "execute_result",
          "data": {
            "text/plain": [
              "{1, 2, 3, 4, 5}"
            ]
          },
          "metadata": {},
          "execution_count": 17
        }
      ]
    },
    {
      "cell_type": "markdown",
      "source": [
        "17. Write a code to add the element 6 to the set {1, 2, 3, 4}."
      ],
      "metadata": {
        "id": "jQNduHGOGsWz"
      }
    },
    {
      "cell_type": "code",
      "source": [
        "\n",
        "\n",
        "my_set = {1, 2, 3, 4}\n",
        "my_set.add(6)\n",
        "my_set"
      ],
      "metadata": {
        "colab": {
          "base_uri": "https://localhost:8080/"
        },
        "id": "5ewff9koGpo2",
        "outputId": "ab8243ed-1121-4fa4-fe4a-95e4f401ed4e"
      },
      "execution_count": null,
      "outputs": [
        {
          "output_type": "execute_result",
          "data": {
            "text/plain": [
              "{1, 2, 3, 4, 6}"
            ]
          },
          "metadata": {},
          "execution_count": 18
        }
      ]
    },
    {
      "cell_type": "code",
      "source": [],
      "metadata": {
        "id": "qLahILE7G11K"
      },
      "execution_count": null,
      "outputs": []
    },
    {
      "cell_type": "markdown",
      "source": [
        "18. Write a code to create a tuple with the elements 10, 20, 30 and print it."
      ],
      "metadata": {
        "id": "E_dHQtQUG3DO"
      }
    },
    {
      "cell_type": "code",
      "source": [
        "\n",
        "\n",
        "my_tuple = (10, 20, 30)\n",
        "my_tuple"
      ],
      "metadata": {
        "colab": {
          "base_uri": "https://localhost:8080/"
        },
        "id": "-E9lXLzvG63x",
        "outputId": "e96b132b-b123-4c69-ef27-1b373e1390d9"
      },
      "execution_count": null,
      "outputs": [
        {
          "output_type": "execute_result",
          "data": {
            "text/plain": [
              "(10, 20, 30)"
            ]
          },
          "metadata": {},
          "execution_count": 19
        }
      ]
    },
    {
      "cell_type": "code",
      "source": [],
      "metadata": {
        "id": "pvvcQvd6G_ST"
      },
      "execution_count": null,
      "outputs": []
    },
    {
      "cell_type": "markdown",
      "source": [
        "19. Write a code to access the first element of the tuple ('apple', 'banana', 'cherry')."
      ],
      "metadata": {
        "id": "X-C3k5AWHAGf"
      }
    },
    {
      "cell_type": "code",
      "source": [
        "\n",
        "my_tuple = ('apple', 'banana', 'cherry')\n",
        "first_element = my_tuple[0]\n",
        "first_element"
      ],
      "metadata": {
        "colab": {
          "base_uri": "https://localhost:8080/",
          "height": 35
        },
        "id": "JriJQbDRHG3f",
        "outputId": "3f196773-acda-4a32-c1bb-537ea247a852"
      },
      "execution_count": null,
      "outputs": [
        {
          "output_type": "execute_result",
          "data": {
            "text/plain": [
              "'apple'"
            ],
            "application/vnd.google.colaboratory.intrinsic+json": {
              "type": "string"
            }
          },
          "metadata": {},
          "execution_count": 20
        }
      ]
    },
    {
      "cell_type": "code",
      "source": [],
      "metadata": {
        "id": "2H_HPDP_HM1J"
      },
      "execution_count": null,
      "outputs": []
    },
    {
      "cell_type": "markdown",
      "source": [
        "20. Write a code to count how many times the number 2 appears in the tuple (1, 2, 3, 2, 4, 2)"
      ],
      "metadata": {
        "id": "LezoacVfHN2c"
      }
    },
    {
      "cell_type": "code",
      "source": [
        "\n",
        "my_tuple = (1, 2, 3, 2, 4, 2)\n",
        "count = my_tuple.count(2)\n",
        "count"
      ],
      "metadata": {
        "colab": {
          "base_uri": "https://localhost:8080/"
        },
        "id": "N7oIuZv0HRip",
        "outputId": "3e710599-9373-4e9c-fb50-5db836f82f0b"
      },
      "execution_count": null,
      "outputs": [
        {
          "output_type": "execute_result",
          "data": {
            "text/plain": [
              "3"
            ]
          },
          "metadata": {},
          "execution_count": 21
        }
      ]
    },
    {
      "cell_type": "code",
      "source": [],
      "metadata": {
        "id": "XA2m5TRGHWQ8"
      },
      "execution_count": null,
      "outputs": []
    },
    {
      "cell_type": "markdown",
      "source": [
        "21. Write a code to find the index of the element \"cat\" in the tuple ('dog', 'cat', 'rabbit').\n",
        "\n"
      ],
      "metadata": {
        "id": "W9PHrBQyHZUm"
      }
    },
    {
      "cell_type": "code",
      "source": [
        "\n",
        "my_tuple = ('dog', 'cat', 'rabbit')\n",
        "index = my_tuple.index('cat')\n",
        "index"
      ],
      "metadata": {
        "colab": {
          "base_uri": "https://localhost:8080/"
        },
        "id": "7DTkbIBjHdjf",
        "outputId": "937bb1aa-4e6b-4e00-cb54-74e7131d0dc2"
      },
      "execution_count": null,
      "outputs": [
        {
          "output_type": "execute_result",
          "data": {
            "text/plain": [
              "1"
            ]
          },
          "metadata": {},
          "execution_count": 22
        }
      ]
    },
    {
      "cell_type": "code",
      "source": [],
      "metadata": {
        "id": "YjhrgaHZHjA9"
      },
      "execution_count": null,
      "outputs": []
    },
    {
      "cell_type": "markdown",
      "source": [
        "22. Write a code to check if the element \"banana\" is in the tuple ('apple', 'orange', 'banana')."
      ],
      "metadata": {
        "id": "oKq-fFGzHjv2"
      }
    },
    {
      "cell_type": "code",
      "source": [
        "\n",
        "my_tuple = ('apple', 'orange', 'banana')\n",
        "\n",
        "if 'banana' in my_tuple:\n",
        "    print(\"Banana is in the tuple\")\n",
        "else:\n",
        "    print(\"Banana is not in the tuple\")"
      ],
      "metadata": {
        "colab": {
          "base_uri": "https://localhost:8080/"
        },
        "id": "f8eHhKlnHoLc",
        "outputId": "cf157e96-40b4-463b-d064-ca2307d3eb29"
      },
      "execution_count": null,
      "outputs": [
        {
          "output_type": "stream",
          "name": "stdout",
          "text": [
            "Banana is in the tuple\n"
          ]
        }
      ]
    },
    {
      "cell_type": "code",
      "source": [],
      "metadata": {
        "id": "1r6XpoyjHt2r"
      },
      "execution_count": null,
      "outputs": []
    },
    {
      "cell_type": "markdown",
      "source": [
        "23. Write a code to create a set with the elements 1, 2, 3, 4, 5 and print it"
      ],
      "metadata": {
        "id": "3NoCzMABH0qj"
      }
    },
    {
      "cell_type": "code",
      "source": [
        "\n",
        "my_set = {1, 2, 3, 4, 5}\n",
        "my_set\n"
      ],
      "metadata": {
        "colab": {
          "base_uri": "https://localhost:8080/"
        },
        "id": "w5a-fZv9H3Ua",
        "outputId": "bcd977a5-1d1a-4720-9248-4289bf458051"
      },
      "execution_count": null,
      "outputs": [
        {
          "output_type": "execute_result",
          "data": {
            "text/plain": [
              "{1, 2, 3, 4, 5}"
            ]
          },
          "metadata": {},
          "execution_count": 24
        }
      ]
    },
    {
      "cell_type": "code",
      "source": [],
      "metadata": {
        "id": "WXix6KauIAar"
      },
      "execution_count": null,
      "outputs": []
    },
    {
      "cell_type": "markdown",
      "source": [
        "24.Write a code to add the element 6 to the set {1, 2, 3, 4}."
      ],
      "metadata": {
        "id": "qK16gN5iIDSJ"
      }
    },
    {
      "cell_type": "code",
      "source": [
        "\n",
        "my_set = {1, 2, 3, 4}\n",
        "my_set.add(6)\n",
        "my_set"
      ],
      "metadata": {
        "colab": {
          "base_uri": "https://localhost:8080/"
        },
        "id": "-AKLoLOcIFAS",
        "outputId": "177ac24c-eab6-4720-f068-3f1cf693cf37"
      },
      "execution_count": null,
      "outputs": [
        {
          "output_type": "execute_result",
          "data": {
            "text/plain": [
              "{1, 2, 3, 4, 6}"
            ]
          },
          "metadata": {},
          "execution_count": 25
        }
      ]
    },
    {
      "cell_type": "code",
      "source": [],
      "metadata": {
        "id": "zovyc271IJyy"
      },
      "execution_count": null,
      "outputs": []
    }
  ]
}